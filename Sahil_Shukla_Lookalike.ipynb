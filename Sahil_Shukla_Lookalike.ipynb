{
 "cells": [
  {
   "cell_type": "code",
   "execution_count": 14,
   "id": "4c815d22-737b-4c06-b90a-bf3f6cbe27a6",
   "metadata": {},
   "outputs": [
    {
     "name": "stdout",
     "output_type": "stream",
     "text": [
      "Requirement already satisfied: scikit-learn in /opt/anaconda3/lib/python3.12/site-packages (1.6.1)\n",
      "Requirement already satisfied: numpy>=1.19.5 in /opt/anaconda3/lib/python3.12/site-packages (from scikit-learn) (1.26.4)\n",
      "Requirement already satisfied: scipy>=1.6.0 in /opt/anaconda3/lib/python3.12/site-packages (from scikit-learn) (1.13.1)\n",
      "Requirement already satisfied: joblib>=1.2.0 in /opt/anaconda3/lib/python3.12/site-packages (from scikit-learn) (1.4.2)\n",
      "Requirement already satisfied: threadpoolctl>=3.1.0 in /opt/anaconda3/lib/python3.12/site-packages (from scikit-learn) (3.5.0)\n",
      "Note: you may need to restart the kernel to use updated packages.\n"
     ]
    }
   ],
   "source": [
    "pip install -U scikit-learn\n"
   ]
  },
  {
   "cell_type": "code",
   "execution_count": 16,
   "id": "38b7d8cb-6483-4eab-8720-f1dcba71edef",
   "metadata": {},
   "outputs": [],
   "source": [
    "import pandas as pd\n",
    "from sklearn.preprocessing import StandardScaler, OneHotEncoder\n",
    "from sklearn.metrics.pairwise import cosine_similarity\n",
    "from sklearn.compose import ColumnTransformer\n",
    "from sklearn.pipeline import Pipeline\n",
    "from sklearn.preprocessing import FunctionTransformer\n",
    "from datetime import datetime"
   ]
  },
  {
   "cell_type": "code",
   "execution_count": 18,
   "id": "35da8df8-a35e-4eae-8a21-4427f3e92708",
   "metadata": {},
   "outputs": [],
   "source": [
    "customers_df = pd.read_csv('Customers.csv')\n",
    "products_df = pd.read_csv('Products.csv')\n",
    "transactions_df = pd.read_csv('Transactions.csv')\n",
    "customers_df['SignupDate'] = pd.to_datetime(customers_df['SignupDate'])\n",
    "current_date = pd.to_datetime('today')\n",
    "customers_df['CustomerAgeInMonths'] = (current_date - customers_df['SignupDate']).dt.days / 30\n",
    "region_encoder = OneHotEncoder()\n",
    "region_encoded = region_encoder.fit_transform(customers_df[['Region']])\n",
    "region_encoded_df = pd.DataFrame(region_encoded.toarray(), columns=region_encoder.get_feature_names_out())\n",
    "\n",
    "customers_df = pd.concat([customers_df, region_encoded_df], axis=1)"
   ]
  },
  {
   "cell_type": "code",
   "execution_count": 20,
   "id": "7709bcc9-0150-49c0-86d9-64057406c730",
   "metadata": {},
   "outputs": [],
   "source": [
    "customer_transactions = transactions_df.groupby('CustomerID').agg(\n",
    "    total_spent=('TotalValue', 'sum'),\n",
    "    transaction_count=('TransactionID', 'count')\n",
    ").reset_index()\n",
    "customer_data = pd.merge(customers_df, customer_transactions, on='CustomerID')\n",
    "category_purchases = transactions_df.merge(products_df[['ProductID', 'Category']], on='ProductID')\n",
    "category_distribution = category_purchases.groupby('CustomerID')['Category'].value_counts(normalize=True).unstack(fill_value=0)\n",
    "customer_data = pd.merge(customer_data, category_distribution, left_on='CustomerID', right_index=True, how='left')"
   ]
  },
  {
   "cell_type": "code",
   "execution_count": 22,
   "id": "93330d3c-74e5-47c5-8533-1dfba1642bc4",
   "metadata": {},
   "outputs": [],
   "source": [
    "numerical_features = ['total_spent', 'transaction_count', 'CustomerAgeInMonths'] + list(region_encoded_df.columns) + list(category_distribution.columns)\n",
    "scaler = StandardScaler()\n",
    "customer_data_scaled = scaler.fit_transform(customer_data[numerical_features])\n",
    "similarity_matrix = cosine_similarity(customer_data_scaled)"
   ]
  },
  {
   "cell_type": "code",
   "execution_count": 24,
   "id": "42f0a704-4506-47f7-a5d9-bd6e53fe1f28",
   "metadata": {},
   "outputs": [],
   "source": [
    "lookalike_dict = {}\n",
    "for i in range(20):\n",
    "    similarities = similarity_matrix[i]\n",
    "    sorted_similarities = sorted(enumerate(similarities), key=lambda x: x[1], reverse=True)\n",
    "    top_3 = [(customer_data.iloc[j[0]]['CustomerID'], j[1]) for j in sorted_similarities[1:4]]\n",
    "    lookalike_dict[customer_data.iloc[i]['CustomerID']] = top_3"
   ]
  },
  {
   "cell_type": "code",
   "execution_count": 30,
   "id": "093d135e-6865-4b5d-9271-7d61940a36fe",
   "metadata": {},
   "outputs": [
    {
     "name": "stdout",
     "output_type": "stream",
     "text": [
      "Lookalike recommendations saved to 'Sahil_Shukla_Lookalike.csv'.\n"
     ]
    }
   ],
   "source": [
    "lookalike_list = []\n",
    "for cust_id, lookalikes in lookalike_dict.items():\n",
    "    for lookalike in lookalikes:\n",
    "        lookalike_list.append([cust_id, lookalike[0], lookalike[1]])\n",
    "\n",
    "lookalike_df = pd.DataFrame(lookalike_list, columns=['CustomerID', 'LookalikeCustomerID', 'SimilarityScore'])\n",
    "\n",
    "lookalike_df.to_csv('Lookalike.csv', index=False)\n",
    "\n",
    "print(\"Lookalike recommendations saved to 'Sahil_Shukla_Lookalike.csv'.\")"
   ]
  }
 ],
 "metadata": {
  "kernelspec": {
   "display_name": "Python 3 (ipykernel)",
   "language": "python",
   "name": "python3"
  },
  "language_info": {
   "codemirror_mode": {
    "name": "ipython",
    "version": 3
   },
   "file_extension": ".py",
   "mimetype": "text/x-python",
   "name": "python",
   "nbconvert_exporter": "python",
   "pygments_lexer": "ipython3",
   "version": "3.12.7"
  }
 },
 "nbformat": 4,
 "nbformat_minor": 5
}
